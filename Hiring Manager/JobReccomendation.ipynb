{
 "cells": [
  {
   "cell_type": "markdown",
   "id": "ca54788d-91c1-472f-9c93-5eed0adfa73f",
   "metadata": {},
   "source": [
    "### Generation of matched role for users"
   ]
  },
  {
   "cell_type": "code",
   "execution_count": 41,
   "id": "e420ec15-c862-401e-a6a9-af32d69f24ee",
   "metadata": {},
   "outputs": [],
   "source": [
    "import pandas as pd\n",
    "import numpy as np\n",
    "from sklearn.feature_extraction.text import CountVectorizer\n",
    "from sklearn.naive_bayes import MultinomialNB"
   ]
  },
  {
   "cell_type": "code",
   "execution_count": 42,
   "id": "3dbbe599-d6ff-483c-9c94-1ecc336744fa",
   "metadata": {
    "scrolled": true
   },
   "outputs": [
    {
     "data": {
      "text/html": [
       "<div>\n",
       "<style scoped>\n",
       "    .dataframe tbody tr th:only-of-type {\n",
       "        vertical-align: middle;\n",
       "    }\n",
       "\n",
       "    .dataframe tbody tr th {\n",
       "        vertical-align: top;\n",
       "    }\n",
       "\n",
       "    .dataframe thead th {\n",
       "        text-align: right;\n",
       "    }\n",
       "</style>\n",
       "<table border=\"1\" class=\"dataframe\">\n",
       "  <thead>\n",
       "    <tr style=\"text-align: right;\">\n",
       "      <th></th>\n",
       "      <th>Job Title</th>\n",
       "      <th>Key Skills</th>\n",
       "      <th>Experience</th>\n",
       "    </tr>\n",
       "  </thead>\n",
       "  <tbody>\n",
       "    <tr>\n",
       "      <th>0</th>\n",
       "      <td>Digital Media Planner</td>\n",
       "      <td>Media Planning, Digital Media</td>\n",
       "      <td>8</td>\n",
       "    </tr>\n",
       "    <tr>\n",
       "      <th>1</th>\n",
       "      <td>Online Bidding Executive</td>\n",
       "      <td>pre sales, closing, software knowledge, clien...</td>\n",
       "      <td>3</td>\n",
       "    </tr>\n",
       "    <tr>\n",
       "      <th>2</th>\n",
       "      <td>Trainee Research/ Research Executive- Hi- Tec...</td>\n",
       "      <td>Computer science, Fabrication, Quality check,...</td>\n",
       "      <td>4</td>\n",
       "    </tr>\n",
       "    <tr>\n",
       "      <th>3</th>\n",
       "      <td>Technical Support</td>\n",
       "      <td>Technical Support</td>\n",
       "      <td>5</td>\n",
       "    </tr>\n",
       "    <tr>\n",
       "      <th>4</th>\n",
       "      <td>Software Test Engineer -hyderabad</td>\n",
       "      <td>manual testing, test engineering, test cases,...</td>\n",
       "      <td>2</td>\n",
       "    </tr>\n",
       "  </tbody>\n",
       "</table>\n",
       "</div>"
      ],
      "text/plain": [
       "                                           Job Title  \\\n",
       "0                              Digital Media Planner   \n",
       "1                           Online Bidding Executive   \n",
       "2   Trainee Research/ Research Executive- Hi- Tec...   \n",
       "3                                  Technical Support   \n",
       "4                  Software Test Engineer -hyderabad   \n",
       "\n",
       "                                          Key Skills  Experience  \n",
       "0                      Media Planning, Digital Media           8  \n",
       "1   pre sales, closing, software knowledge, clien...           3  \n",
       "2   Computer science, Fabrication, Quality check,...           4  \n",
       "3                                  Technical Support           5  \n",
       "4   manual testing, test engineering, test cases,...           2  "
      ]
     },
     "execution_count": 42,
     "metadata": {},
     "output_type": "execute_result"
    }
   ],
   "source": [
    "X = pd.read_csv('jobss.csv')\n",
    "X.head()"
   ]
  },
  {
   "cell_type": "code",
   "execution_count": 43,
   "id": "b1af70e4-735a-418e-9f90-f52b7e0b3c62",
   "metadata": {},
   "outputs": [
    {
     "data": {
      "text/html": [
       "<div>\n",
       "<style scoped>\n",
       "    .dataframe tbody tr th:only-of-type {\n",
       "        vertical-align: middle;\n",
       "    }\n",
       "\n",
       "    .dataframe tbody tr th {\n",
       "        vertical-align: top;\n",
       "    }\n",
       "\n",
       "    .dataframe thead th {\n",
       "        text-align: right;\n",
       "    }\n",
       "</style>\n",
       "<table border=\"1\" class=\"dataframe\">\n",
       "  <thead>\n",
       "    <tr style=\"text-align: right;\">\n",
       "      <th></th>\n",
       "      <th>Key Skills</th>\n",
       "      <th>Experience</th>\n",
       "      <th>day book</th>\n",
       "      <th>c</th>\n",
       "      <th>pressure vessels</th>\n",
       "      <th>msbi</th>\n",
       "      <th>sap</th>\n",
       "      <th>monthly reports</th>\n",
       "      <th>hiring</th>\n",
       "      <th>lookup</th>\n",
       "      <th>...</th>\n",
       "      <th>supply chain</th>\n",
       "      <th>us visa</th>\n",
       "      <th>networking sales</th>\n",
       "      <th>business excellence</th>\n",
       "      <th>sale</th>\n",
       "      <th>academic</th>\n",
       "      <th>subject matter expert</th>\n",
       "      <th>marketing management</th>\n",
       "      <th>production control</th>\n",
       "      <th>corporate training</th>\n",
       "    </tr>\n",
       "  </thead>\n",
       "  <tbody>\n",
       "    <tr>\n",
       "      <th>0</th>\n",
       "      <td>server, multimedia, troubleshooting, graphics...</td>\n",
       "      <td>3</td>\n",
       "      <td>8</td>\n",
       "      <td>NaN</td>\n",
       "      <td>NaN</td>\n",
       "      <td>NaN</td>\n",
       "      <td>NaN</td>\n",
       "      <td>NaN</td>\n",
       "      <td>NaN</td>\n",
       "      <td>NaN</td>\n",
       "      <td>...</td>\n",
       "      <td>NaN</td>\n",
       "      <td>NaN</td>\n",
       "      <td>NaN</td>\n",
       "      <td>NaN</td>\n",
       "      <td>NaN</td>\n",
       "      <td>NaN</td>\n",
       "      <td>NaN</td>\n",
       "      <td>NaN</td>\n",
       "      <td>NaN</td>\n",
       "      <td>NaN</td>\n",
       "    </tr>\n",
       "  </tbody>\n",
       "</table>\n",
       "<p>1 rows × 1789 columns</p>\n",
       "</div>"
      ],
      "text/plain": [
       "                                          Key Skills  Experience  day book  \\\n",
       "0   server, multimedia, troubleshooting, graphics...           3         8   \n",
       "\n",
       "    c  pressure vessels  msbi  sap  monthly reports  hiring  lookup  ...  \\\n",
       "0 NaN               NaN   NaN  NaN              NaN     NaN     NaN  ...   \n",
       "\n",
       "   supply chain  us visa  networking sales  business excellence  sale  \\\n",
       "0           NaN      NaN               NaN                  NaN   NaN   \n",
       "\n",
       "   academic  subject matter expert  marketing management  production control  \\\n",
       "0       NaN                    NaN                   NaN                 NaN   \n",
       "\n",
       "   corporate training  \n",
       "0                 NaN  \n",
       "\n",
       "[1 rows x 1789 columns]"
      ]
     },
     "execution_count": 43,
     "metadata": {},
     "output_type": "execute_result"
    }
   ],
   "source": [
    "query = pd.read_csv(\"Query.csv\")\n",
    "query"
   ]
  },
  {
   "cell_type": "code",
   "execution_count": 44,
   "id": "5df3a4db-02c9-428f-ae11-0a6a7090b0b3",
   "metadata": {},
   "outputs": [],
   "source": [
    "X = X.dropna()"
   ]
  },
  {
   "cell_type": "code",
   "execution_count": 45,
   "id": "5cbc89e0-776d-45db-b094-a4801aaa0cb6",
   "metadata": {},
   "outputs": [],
   "source": [
    "v = CountVectorizer()\n",
    "X_vectorizer = v.fit_transform(X['Key Skills'])\n",
    "\n",
    "q_vectorizer = v.transform(query['Key Skills'])"
   ]
  },
  {
   "cell_type": "code",
   "execution_count": 46,
   "id": "440e1bc8-dc11-42e5-b8f9-525566e18538",
   "metadata": {},
   "outputs": [
    {
     "data": {
      "text/html": [
       "<style>#sk-container-id-3 {color: black;background-color: white;}#sk-container-id-3 pre{padding: 0;}#sk-container-id-3 div.sk-toggleable {background-color: white;}#sk-container-id-3 label.sk-toggleable__label {cursor: pointer;display: block;width: 100%;margin-bottom: 0;padding: 0.3em;box-sizing: border-box;text-align: center;}#sk-container-id-3 label.sk-toggleable__label-arrow:before {content: \"▸\";float: left;margin-right: 0.25em;color: #696969;}#sk-container-id-3 label.sk-toggleable__label-arrow:hover:before {color: black;}#sk-container-id-3 div.sk-estimator:hover label.sk-toggleable__label-arrow:before {color: black;}#sk-container-id-3 div.sk-toggleable__content {max-height: 0;max-width: 0;overflow: hidden;text-align: left;background-color: #f0f8ff;}#sk-container-id-3 div.sk-toggleable__content pre {margin: 0.2em;color: black;border-radius: 0.25em;background-color: #f0f8ff;}#sk-container-id-3 input.sk-toggleable__control:checked~div.sk-toggleable__content {max-height: 200px;max-width: 100%;overflow: auto;}#sk-container-id-3 input.sk-toggleable__control:checked~label.sk-toggleable__label-arrow:before {content: \"▾\";}#sk-container-id-3 div.sk-estimator input.sk-toggleable__control:checked~label.sk-toggleable__label {background-color: #d4ebff;}#sk-container-id-3 div.sk-label input.sk-toggleable__control:checked~label.sk-toggleable__label {background-color: #d4ebff;}#sk-container-id-3 input.sk-hidden--visually {border: 0;clip: rect(1px 1px 1px 1px);clip: rect(1px, 1px, 1px, 1px);height: 1px;margin: -1px;overflow: hidden;padding: 0;position: absolute;width: 1px;}#sk-container-id-3 div.sk-estimator {font-family: monospace;background-color: #f0f8ff;border: 1px dotted black;border-radius: 0.25em;box-sizing: border-box;margin-bottom: 0.5em;}#sk-container-id-3 div.sk-estimator:hover {background-color: #d4ebff;}#sk-container-id-3 div.sk-parallel-item::after {content: \"\";width: 100%;border-bottom: 1px solid gray;flex-grow: 1;}#sk-container-id-3 div.sk-label:hover label.sk-toggleable__label {background-color: #d4ebff;}#sk-container-id-3 div.sk-serial::before {content: \"\";position: absolute;border-left: 1px solid gray;box-sizing: border-box;top: 0;bottom: 0;left: 50%;z-index: 0;}#sk-container-id-3 div.sk-serial {display: flex;flex-direction: column;align-items: center;background-color: white;padding-right: 0.2em;padding-left: 0.2em;position: relative;}#sk-container-id-3 div.sk-item {position: relative;z-index: 1;}#sk-container-id-3 div.sk-parallel {display: flex;align-items: stretch;justify-content: center;background-color: white;position: relative;}#sk-container-id-3 div.sk-item::before, #sk-container-id-3 div.sk-parallel-item::before {content: \"\";position: absolute;border-left: 1px solid gray;box-sizing: border-box;top: 0;bottom: 0;left: 50%;z-index: -1;}#sk-container-id-3 div.sk-parallel-item {display: flex;flex-direction: column;z-index: 1;position: relative;background-color: white;}#sk-container-id-3 div.sk-parallel-item:first-child::after {align-self: flex-end;width: 50%;}#sk-container-id-3 div.sk-parallel-item:last-child::after {align-self: flex-start;width: 50%;}#sk-container-id-3 div.sk-parallel-item:only-child::after {width: 0;}#sk-container-id-3 div.sk-dashed-wrapped {border: 1px dashed gray;margin: 0 0.4em 0.5em 0.4em;box-sizing: border-box;padding-bottom: 0.4em;background-color: white;}#sk-container-id-3 div.sk-label label {font-family: monospace;font-weight: bold;display: inline-block;line-height: 1.2em;}#sk-container-id-3 div.sk-label-container {text-align: center;}#sk-container-id-3 div.sk-container {/* jupyter's `normalize.less` sets `[hidden] { display: none; }` but bootstrap.min.css set `[hidden] { display: none !important; }` so we also need the `!important` here to be able to override the default hidden behavior on the sphinx rendered scikit-learn.org. See: https://github.com/scikit-learn/scikit-learn/issues/21755 */display: inline-block !important;position: relative;}#sk-container-id-3 div.sk-text-repr-fallback {display: none;}</style><div id=\"sk-container-id-3\" class=\"sk-top-container\"><div class=\"sk-text-repr-fallback\"><pre>MultinomialNB()</pre><b>In a Jupyter environment, please rerun this cell to show the HTML representation or trust the notebook. <br />On GitHub, the HTML representation is unable to render, please try loading this page with nbviewer.org.</b></div><div class=\"sk-container\" hidden><div class=\"sk-item\"><div class=\"sk-estimator sk-toggleable\"><input class=\"sk-toggleable__control sk-hidden--visually\" id=\"sk-estimator-id-3\" type=\"checkbox\" checked><label for=\"sk-estimator-id-3\" class=\"sk-toggleable__label sk-toggleable__label-arrow\">MultinomialNB</label><div class=\"sk-toggleable__content\"><pre>MultinomialNB()</pre></div></div></div></div></div>"
      ],
      "text/plain": [
       "MultinomialNB()"
      ]
     },
     "execution_count": 46,
     "metadata": {},
     "output_type": "execute_result"
    }
   ],
   "source": [
    "model = MultinomialNB()\n",
    "model.fit(X_vectorizer,X['Job Title'])"
   ]
  },
  {
   "cell_type": "code",
   "execution_count": 47,
   "id": "facf9b9b-2b5b-4c22-81d0-d0f577f48c5d",
   "metadata": {
    "scrolled": true
   },
   "outputs": [
    {
     "data": {
      "text/plain": [
       "array([186, 102, 211, 261, 436], dtype=int64)"
      ]
     },
     "execution_count": 47,
     "metadata": {},
     "output_type": "execute_result"
    }
   ],
   "source": [
    "top_5_indices = model.predict_proba(q_vectorizer).argsort(axis=1)[:, -5:][0]\n",
    "top_5_indices"
   ]
  },
  {
   "cell_type": "code",
   "execution_count": 48,
   "id": "c4491113-f46b-498a-b288-8b3a62ad7bd2",
   "metadata": {},
   "outputs": [
    {
     "name": "stdout",
     "output_type": "stream",
     "text": [
      "Top 5 recommendations:  [' Layout Designer / Web Designer', ' Sterling OMS Architect', ' Sales And Marketing/Business Development manager', ' Bulk Hiring Travel Sales Consultants US /UK Shifts Call ASAP', ' Business Advisor']\n"
     ]
    }
   ],
   "source": [
    "res_arr = [X.iloc[i,0] for i in top_5_indices]\n",
    "print('Top 5 recommendations: ',res_arr)"
   ]
  },
  {
   "cell_type": "markdown",
   "id": "23fdaf4d-b174-496f-b439-2f62281e51d5",
   "metadata": {},
   "source": [
    "### Skill Gap"
   ]
  },
  {
   "cell_type": "code",
   "execution_count": 49,
   "id": "431fed8f-adb9-4121-b332-75a5c41ad841",
   "metadata": {},
   "outputs": [],
   "source": [
    "def normalize(v):\n",
    "    # To convert probability range to 1 to 100\n",
    "    # Min Max normalization\n",
    "    return ((v-0/(1-0)) * (100-1)) + 1"
   ]
  },
  {
   "cell_type": "code",
   "execution_count": 50,
   "id": "49c89221-4993-44fd-b0ff-aac7b027bd83",
   "metadata": {},
   "outputs": [
    {
     "name": "stdin",
     "output_type": "stream",
     "text": [
      "Enter your skills :  manual testing, test engineering, test cases, web testing, web technologies\n",
      "Enter your choice of roles :   Web Designer\n"
     ]
    }
   ],
   "source": [
    "user_skill = str(input(\"Enter your skills : \"))\n",
    "user_choice_role = str(input(\"Enter your choice of roles : \"))"
   ]
  },
  {
   "cell_type": "code",
   "execution_count": 51,
   "id": "484b8833-93bd-493c-84aa-a257008ecae9",
   "metadata": {},
   "outputs": [
    {
     "name": "stdout",
     "output_type": "stream",
     "text": [
      "You have a chance of  84.53 % to get your desired role\n"
     ]
    }
   ],
   "source": [
    "target_class_index = model.classes_.tolist().index(user_choice_role)\n",
    "print(\"You have a chance of \",round(normalize(model.predict_proba(q_vectorizer)[0][target_class_index]),2),\"% to get your desired role\")"
   ]
  },
  {
   "cell_type": "markdown",
   "id": "0dfc0f61-b4bb-4a02-a847-a47607b361a5",
   "metadata": {},
   "source": [
    "### "
   ]
  }
 ],
 "metadata": {
  "kernelspec": {
   "display_name": "py",
   "language": "python",
   "name": "myenv"
  },
  "language_info": {
   "codemirror_mode": {
    "name": "ipython",
    "version": 3
   },
   "file_extension": ".py",
   "mimetype": "text/x-python",
   "name": "python",
   "nbconvert_exporter": "python",
   "pygments_lexer": "ipython3",
   "version": "3.11.3"
  }
 },
 "nbformat": 4,
 "nbformat_minor": 5
}
